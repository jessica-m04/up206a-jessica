{
 "cells": [
  {
   "cell_type": "code",
   "execution_count": null,
   "id": "67c10e75-7ec0-4808-a531-3608039a43d3",
   "metadata": {},
   "outputs": [],
   "source": [
    "#Something Something Header for Assignment 01"
   ]
  }
 ],
 "metadata": {
  "kernelspec": {
   "display_name": "Python 3 (ipykernel)",
   "language": "python",
   "name": "python3"
  },
  "language_info": {
   "codemirror_mode": {
    "name": "ipython",
    "version": 3
   },
   "file_extension": ".py",
   "mimetype": "text/x-python",
   "name": "python",
   "nbconvert_exporter": "python",
   "pygments_lexer": "ipython3",
   "version": "3.9.6"
  }
 },
 "nbformat": 4,
 "nbformat_minor": 5
}
